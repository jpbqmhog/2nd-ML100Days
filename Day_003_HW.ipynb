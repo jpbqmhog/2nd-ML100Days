import pandas as pd
import numpy as np

# 3-1 新建data frame
data = {'a':[1,2,3], 'b':['1','2','3']}
df = pd.DataFrame(data)

# 3-2 讀取folder資料檔
rawData = pd.read_excel(folder)
